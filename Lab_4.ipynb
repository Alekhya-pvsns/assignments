{
  "nbformat": 4,
  "nbformat_minor": 0,
  "metadata": {
    "colab": {
      "provenance": [],
      "gpuType": "T4",
      "mount_file_id": "1JUCuXN0gFN8trqiD7NflDURjZ-S0lRy7",
      "authorship_tag": "ABX9TyN00L3igGYMKcIZ/yEkC+NZ",
      "include_colab_link": true
    },
    "kernelspec": {
      "name": "python3",
      "display_name": "Python 3"
    },
    "language_info": {
      "name": "python"
    },
    "accelerator": "GPU"
  },
  "cells": [
    {
      "cell_type": "markdown",
      "metadata": {
        "id": "view-in-github",
        "colab_type": "text"
      },
      "source": [
        "<a href=\"https://colab.research.google.com/github/Alekhya-pvsns/assignments/blob/master/Lab_4.ipynb\" target=\"_parent\"><img src=\"https://colab.research.google.com/assets/colab-badge.svg\" alt=\"Open In Colab\"/></a>"
      ]
    },
    {
      "cell_type": "markdown",
      "source": [
        "First Implementation: Training a Neural Network"
      ],
      "metadata": {
        "id": "o7uH52oqWyTE"
      }
    },
    {
      "cell_type": "markdown",
      "source": [
        "Step 1: Importing and loading the datasets"
      ],
      "metadata": {
        "id": "PH_p2o2rgBev"
      }
    },
    {
      "cell_type": "code",
      "source": [
        "import torch\n",
        "from torch import nn\n",
        "from torch import optim\n",
        "import pandas as pd\n",
        "import matplotlib.pyplot as plt\n",
        "from google.colab import drive\n",
        "\n",
        "#loading train dataset\n",
        "\n",
        "df_tnds = pd.read_csv('/content/drive/MyDrive/dataset/train (1).csv')\n",
        "df_tnds.head()"
      ],
      "metadata": {
        "id": "cclplcYJW4y-"
      },
      "execution_count": null,
      "outputs": []
    },
    {
      "cell_type": "code",
      "source": [
        "# converting the train dataset into tensors\n",
        "\n",
        "x_train = torch.tensor(df_tnds['x'].values, dtype=torch.float32).unsqueeze(1)\n",
        "y_train = torch.tensor(df_tnds['y'].values, dtype=torch.float32)"
      ],
      "metadata": {
        "id": "D-07SerEX5Z9"
      },
      "execution_count": null,
      "outputs": []
    },
    {
      "cell_type": "code",
      "source": [
        "# loading test dataset\n",
        "\n",
        "df_tsds = pd.read_csv('/content/drive/MyDrive/dataset/test.csv')\n",
        "df_tsds.head()"
      ],
      "metadata": {
        "id": "rvfmcDSQYKsK"
      },
      "execution_count": null,
      "outputs": []
    },
    {
      "cell_type": "code",
      "source": [
        "# converting test dataset into tensors\n",
        "\n",
        "x_test = torch.tensor(df_tsds['x'].values, dtype=torch.float32).unsqueeze(1)\n",
        "y_test = torch.tensor(df_tsds['y'].values, dtype=torch.float32)"
      ],
      "metadata": {
        "id": "iAtNZafjYon2"
      },
      "execution_count": null,
      "outputs": []
    },
    {
      "cell_type": "code",
      "source": [
        "# plotting the dataset\n",
        "\n",
        "plt.scatter(x_train, y_train)\n",
        "plt.scatter(x_test, y_test)"
      ],
      "metadata": {
        "id": "KqqoNMBWZX-h"
      },
      "execution_count": null,
      "outputs": []
    },
    {
      "cell_type": "markdown",
      "source": [
        "Step 2: Building the NN model"
      ],
      "metadata": {
        "id": "L-_ArVrqf22P"
      }
    },
    {
      "cell_type": "code",
      "source": [
        "#  Step 2: Building the NN model\n",
        "\n",
        "model = nn.Linear(1, 1)\n",
        "model"
      ],
      "metadata": {
        "id": "aJYm70-PaAeg"
      },
      "execution_count": null,
      "outputs": []
    },
    {
      "cell_type": "markdown",
      "source": [
        "Step 3: Defining a loss function"
      ],
      "metadata": {
        "id": "ehar8pSZfxVL"
      }
    },
    {
      "cell_type": "code",
      "source": [
        "loss_fn = nn.MSELoss()"
      ],
      "metadata": {
        "id": "5QczIWmHaQtx"
      },
      "execution_count": null,
      "outputs": []
    },
    {
      "cell_type": "markdown",
      "source": [
        "Step 4: Defining Optimization"
      ],
      "metadata": {
        "id": "6DXVUrkAa6bV"
      }
    },
    {
      "cell_type": "code",
      "source": [
        "model.parameters()"
      ],
      "metadata": {
        "colab": {
          "base_uri": "https://localhost:8080/"
        },
        "id": "ywpQuJ07alYa",
        "outputId": "6f3d79f8-cdcb-4088-d575-1e30bd54602e"
      },
      "execution_count": null,
      "outputs": [
        {
          "output_type": "execute_result",
          "data": {
            "text/plain": [
              "<generator object Module.parameters at 0x7cba2380fa00>"
            ]
          },
          "metadata": {},
          "execution_count": 11
        }
      ]
    },
    {
      "cell_type": "code",
      "source": [
        "for name, param in model.named_parameters():\n",
        "  print(name, param)"
      ],
      "metadata": {
        "id": "rmUiGuOVatTK"
      },
      "execution_count": null,
      "outputs": []
    },
    {
      "cell_type": "code",
      "source": [
        "optimizer = optim.SGD(model.parameters(), lr=0.1)"
      ],
      "metadata": {
        "id": "8SSkPWl6bEEF"
      },
      "execution_count": null,
      "outputs": []
    },
    {
      "cell_type": "markdown",
      "source": [
        "Step 5: Training the loop"
      ],
      "metadata": {
        "id": "zgUPiXoabOL8"
      }
    },
    {
      "cell_type": "code",
      "source": [
        "N = 500 # number of epochs\n",
        "loss_hist = [] # maintaining loss values for visualization\n",
        "\n",
        "for iter in range(N):\n",
        "  yp = model(x_train)\n",
        "  loss = loss_fn(yp.squeeze(), y_train)\n",
        "  loss.backward()\n",
        "  optimizer.step()\n",
        "  optimizer.zero_grad()\n",
        "  loss_hist.append(loss.item())\n",
        "  print(loss.item())"
      ],
      "metadata": {
        "id": "Rb5Smbl7bRZz"
      },
      "execution_count": null,
      "outputs": []
    },
    {
      "cell_type": "code",
      "source": [
        "# training some random samples on the model\n",
        "\n",
        "x_viz = torch.linspace(x_train.min(), x_train.max(), 100).unsqueeze(1)\n",
        "y_viz = model(x_viz)\n",
        "\n",
        "# Plotting\n",
        "\n",
        "plt.scatter(x_train, y_train)\n",
        "plt.plot(x_viz.detach(), y_viz.detach(), 'r')"
      ],
      "metadata": {
        "id": "sGVre5YccS5Y"
      },
      "execution_count": null,
      "outputs": []
    },
    {
      "cell_type": "code",
      "source": [
        "# Learning curve\n",
        "\n",
        "plt.plot(range(N), loss_hist)"
      ],
      "metadata": {
        "id": "bLxd1jH4dGqw"
      },
      "execution_count": null,
      "outputs": []
    },
    {
      "cell_type": "markdown",
      "source": [
        "Step 6: Testing model on test dataset"
      ],
      "metadata": {
        "id": "AwxgerPudQ4z"
      }
    },
    {
      "cell_type": "code",
      "source": [
        "yp = model(x_test)\n",
        "# F.l1_loss(yp_squeeze(), y_test)   ---- getting an error as F is not defined so used torch.nn.functional\n",
        "torch.nn.functional.l1_loss(yp.squeeze(), y_test)\n"
      ],
      "metadata": {
        "id": "sCrGes06dUcj"
      },
      "execution_count": null,
      "outputs": []
    },
    {
      "cell_type": "markdown",
      "source": [
        "Second Implementation : Training a convolutional neural network (CNN)"
      ],
      "metadata": {
        "id": "pOHy2HEQg1zA"
      }
    },
    {
      "cell_type": "code",
      "source": [
        "# Importing Libraries\n",
        "\n",
        "import torch\n",
        "from torch.utils.data import Dataset, DataLoader\n",
        "import torchvision\n",
        "import matplotlib.pyplot as plt\n",
        "\n",
        "#Downloading training dataset\n",
        "\n",
        "train_data = torchvision.datasets.CIFAR10(\n",
        "    root='./data',\n",
        "    train=True,\n",
        "    download=True\n",
        ")"
      ],
      "metadata": {
        "colab": {
          "base_uri": "https://localhost:8080/"
        },
        "id": "LwhTtm9sg_R7",
        "outputId": "e93e5782-5e39-411b-f3c5-736fc7aafd88"
      },
      "execution_count": null,
      "outputs": [
        {
          "output_type": "stream",
          "name": "stdout",
          "text": [
            "Downloading https://www.cs.toronto.edu/~kriz/cifar-10-python.tar.gz to ./data/cifar-10-python.tar.gz\n"
          ]
        },
        {
          "output_type": "stream",
          "name": "stderr",
          "text": [
            "100%|██████████| 170498071/170498071 [00:03<00:00, 48882194.27it/s]\n"
          ]
        },
        {
          "output_type": "stream",
          "name": "stdout",
          "text": [
            "Extracting ./data/cifar-10-python.tar.gz to ./data\n"
          ]
        }
      ]
    },
    {
      "cell_type": "code",
      "source": [
        "# Downloading test dataset\n",
        "\n",
        "test_data = torchvision.datasets.CIFAR10(\n",
        "    root='./data',\n",
        "    train=False,\n",
        "    download=True\n",
        ")"
      ],
      "metadata": {
        "colab": {
          "base_uri": "https://localhost:8080/"
        },
        "id": "pSRZeRP8heUf",
        "outputId": "db0aa6a1-b8b8-41c9-eeb3-245448f10c85"
      },
      "execution_count": null,
      "outputs": [
        {
          "output_type": "stream",
          "name": "stdout",
          "text": [
            "Files already downloaded and verified\n"
          ]
        }
      ]
    },
    {
      "cell_type": "markdown",
      "source": [
        "Checking one of the images"
      ],
      "metadata": {
        "id": "NfZ0YUCShsI0"
      }
    },
    {
      "cell_type": "code",
      "source": [
        "image, label = train_data[8]\n",
        "plt.imshow(image)\n",
        "print('Label:', label)\n"
      ],
      "metadata": {
        "colab": {
          "base_uri": "https://localhost:8080/",
          "height": 448
        },
        "id": "kUgxOhAYhtkd",
        "outputId": "0c52af79-15bd-4b28-f828-a3d09ef89ee9"
      },
      "execution_count": null,
      "outputs": [
        {
          "output_type": "stream",
          "name": "stdout",
          "text": [
            "Label: 8\n"
          ]
        },
        {
          "output_type": "display_data",
          "data": {
            "text/plain": [
              "<Figure size 640x480 with 1 Axes>"
            ],
            "image/png": "[encoded data removed]"
          },
          "metadata": {}
        }
      ]
    },
    {
      "cell_type": "markdown",
      "source": [
        "Converting images into tensors"
      ],
      "metadata": {
        "id": "lRCGhYlxiUif"
      }
    },
    {
      "cell_type": "code",
      "source": [
        "from torchvision.transforms import ToTensor\n",
        "\n",
        "# Converting the train data into tensors\n",
        "\n",
        "train_data = torchvision.datasets.CIFAR10(\n",
        "    root='./data',\n",
        "    train=True,\n",
        "    transform=ToTensor()\n",
        ")\n",
        "\n",
        "# Converting the test data into tensors\n",
        "\n",
        "test_data = torchvision.datasets.CIFAR10(\n",
        "    root='./data',\n",
        "    train=False,\n",
        "    transform=ToTensor()\n",
        ")"
      ],
      "metadata": {
        "id": "ksuC_uyDiZE4"
      },
      "execution_count": null,
      "outputs": []
    },
    {
      "cell_type": "markdown",
      "source": [
        "Batch size and DataLoader"
      ],
      "metadata": {
        "id": "KSlmkIvpjCNU"
      }
    },
    {
      "cell_type": "code",
      "source": [
        "batch_size = 64\n",
        "\n",
        "# Creating data loaders for train and test\n",
        "\n",
        "train_dataloader = DataLoader(train_data, batch_size=batch_size, shuffle=True)\n",
        "test_dataloader = DataLoader(test_data, batch_size=batch_size, shuffle=True)"
      ],
      "metadata": {
        "id": "1PnYvKFZjFb8"
      },
      "execution_count": null,
      "outputs": []
    },
    {
      "cell_type": "markdown",
      "source": [
        "Checking one batch of dataloader"
      ],
      "metadata": {
        "id": "hvow0OV2jhR-"
      }
    },
    {
      "cell_type": "code",
      "source": [
        "# Checking for train dataloader\n",
        "\n",
        "for image, labels in train_dataloader:\n",
        "  print(labels.shape)\n",
        "  print(image.shape)\n",
        "  break"
      ],
      "metadata": {
        "colab": {
          "base_uri": "https://localhost:8080/"
        },
        "id": "p57CBYSnjj5u",
        "outputId": "d4f09456-425a-4c46-976a-f6fc5d8740e5"
      },
      "execution_count": null,
      "outputs": [
        {
          "output_type": "stream",
          "name": "stdout",
          "text": [
            "torch.Size([64])\n",
            "torch.Size([64, 3, 32, 32])\n"
          ]
        }
      ]
    },
    {
      "cell_type": "markdown",
      "source": [
        "Visualizing one batch of images"
      ],
      "metadata": {
        "id": "bY2mxBX3kM3P"
      }
    },
    {
      "cell_type": "code",
      "source": [
        "classes = (\"planes\", \"car\", \"bird\", \"cat\", \"deer\", \"dog\", \"frog\", \"horse\", \"ship\", \"truck\")\n",
        "import numpy as np\n",
        "import matplotlib.pyplot as plt"
      ],
      "metadata": {
        "id": "9wcwwvgEkVZ4"
      },
      "execution_count": null,
      "outputs": []
    },
    {
      "cell_type": "code",
      "source": [
        "#visualizing one batch of images\n",
        "def imshow(img):\n",
        "    # Denormalize the images\n",
        "    img = img / 2 + 0.5\n",
        "    np_img = img.numpy()\n",
        "    transposed = np.transpose(np_img, (1, 2, 0))\n",
        "    plt.imshow(transposed)\n",
        "    plt.show()"
      ],
      "metadata": {
        "id": "qI4KqNc2INnL"
      },
      "execution_count": null,
      "outputs": []
    },
    {
      "cell_type": "code",
      "source": [
        "print(\"Type of train_dataloader:\", type(train_dataloader))\n",
        "print(\"Value of train_dataloader:\", train_dataloader)\n"
      ],
      "metadata": {
        "colab": {
          "base_uri": "https://localhost:8080/"
        },
        "id": "7yapUdD9IR5c",
        "outputId": "b2521dac-fe69-4fa7-b4fa-22a70cceea55"
      },
      "execution_count": null,
      "outputs": [
        {
          "output_type": "stream",
          "name": "stdout",
          "text": [
            "Type of train_dataloader: <class 'torch.utils.data.dataloader.DataLoader'>\n",
            "Value of train_dataloader: <torch.utils.data.dataloader.DataLoader object at 0x7852a0567430>\n"
          ]
        }
      ]
    },
    {
      "cell_type": "code",
      "source": [
        "iterator = iter(train_dataloader)\n",
        "\n",
        "# Get a batch of images and labels\n",
        "images, labels = next(iterator)\n",
        "\n",
        "# Visualize the batch of images\n",
        "imshow(torchvision.utils.make_grid(images))\n",
        "print('Labels:', labels)\n"
      ],
      "metadata": {
        "id": "V5kbWT1rI-Hf"
      },
      "execution_count": null,
      "outputs": []
    },
    {
      "cell_type": "markdown",
      "source": [
        "Checking GPU"
      ],
      "metadata": {
        "id": "wbM9aIdpMCFp"
      }
    },
    {
      "cell_type": "code",
      "source": [
        "device = \"cuda\" if torch.cuda.is_available() else \"cpu\"\n",
        "print(f\"Using the {device} device\")"
      ],
      "metadata": {
        "colab": {
          "base_uri": "https://localhost:8080/"
        },
        "id": "0qdtcrytMDx4",
        "outputId": "62029dad-7883-4fbb-b219-8f595a8545a2"
      },
      "execution_count": null,
      "outputs": [
        {
          "output_type": "stream",
          "name": "stdout",
          "text": [
            "Using the cuda device\n"
          ]
        }
      ]
    },
    {
      "cell_type": "markdown",
      "source": [
        "Building the CNN Model"
      ],
      "metadata": {
        "id": "af59zx6EM73T"
      }
    },
    {
      "cell_type": "code",
      "source": [
        "import torch.nn as nn\n",
        "import torch.nn.functional as F\n",
        "\n",
        "# Defining model\n",
        "\n",
        "class Net(nn.Module):\n",
        "    def __init__(self):\n",
        "        super().__init__()\n",
        "        self.conv1 = nn.Conv2d(3, 6, 5)\n",
        "        self.pool = nn.MaxPool2d(2, 2)\n",
        "        self.conv2 = nn.Conv2d(6, 16, 5)\n",
        "        self.fc1 = nn.Linear(16*5*5, 120)\n",
        "        self.fc2 = nn.Linear(120, 84)\n",
        "        self.fc3 = nn.Linear(84, 10)\n",
        "\n",
        "    def forward(self, x):\n",
        "        x = self.pool(F.relu(self.conv1(x)))\n",
        "        x = self.pool(F.relu(self.conv2(x)))\n",
        "        x = torch.flatten(x, 1)\n",
        "        x = F.relu(self.fc1(x))   # ReLU activation function\n",
        "        x = F.relu(self.fc2(x))\n",
        "        x = self.fc3(x)\n",
        "        return x\n",
        "\n",
        "net = Net()\n",
        "print(net)"
      ],
      "metadata": {
        "id": "aX7BiBe9M922"
      },
      "execution_count": null,
      "outputs": []
    },
    {
      "cell_type": "markdown",
      "source": [
        "Loss Function and Optimizer"
      ],
      "metadata": {
        "id": "C0VTZhvqNXxy"
      }
    },
    {
      "cell_type": "code",
      "source": [
        "import torch.optim as optim\n",
        "import torch.nn as nn\n",
        "\n",
        "criterion = nn.HingeEmbeddingLoss()\n",
        "#criterion = nn.CrossEntropyLoss()\n",
        "optimizer = optim.SGD(net.parameters(), lr=0.001, momentum=0.9)"
      ],
      "metadata": {
        "id": "AMsjaPJ5NZnX"
      },
      "execution_count": null,
      "outputs": []
    },
    {
      "cell_type": "markdown",
      "source": [
        "Training the model"
      ],
      "metadata": {
        "id": "Kd2gwIdANycx"
      }
    },
    {
      "cell_type": "code",
      "source": [
        "for epoch in range(20):\n",
        "    running_loss = 0.0\n",
        "\n",
        "    for i, data in enumerate(train_dataloader, 0):\n",
        "        inputs, labels = data\n",
        "\n",
        "        # Adding an extra dimension to the tensor as there is an error coming as \"RuntimeError: The size of tensor a (64) must match the size of tensor b (10) at non-singleton dimension 1\"\n",
        "        labels = labels.unsqueeze(1)\n",
        "        # forward + backward + optimize\n",
        "        outputs = net(inputs)\n",
        "        loss = criterion(outputs, labels)\n",
        "\n",
        "        optimizer.zero_grad()\n",
        "        loss.backward()\n",
        "        optimizer.step()\n",
        "\n",
        "        running_loss += loss.item()\n",
        "    # print epoch and data size\n",
        "    print(f\"Epoch: {epoch}, Number of images: {i}, Loss: {running_loss}\")\n",
        "\n",
        "print(\"Finished training!\")"
      ],
      "metadata": {
        "id": "8TPzrzrNN0G7"
      },
      "execution_count": null,
      "outputs": []
    },
    {
      "cell_type": "markdown",
      "source": [
        "Accuracy of the model"
      ],
      "metadata": {
        "id": "TQ-XodZ7Q4ju"
      }
    },
    {
      "cell_type": "code",
      "source": [
        "correct = 0\n",
        "total = 0\n",
        "\n",
        "with torch.no_grad():\n",
        "  for data in test_dataloader:\n",
        "    images, labels = data\n",
        "\n",
        "    # Calculating outputs\n",
        "    outputs = net(images)\n",
        "\n",
        "    _, predicted = torch.max(outputs.data, 1)\n",
        "    total += labels.size(0)\n",
        "    correct += (predicted == labels).sum().item()\n",
        "\n",
        "print(f'Accuracy of the network on the 10000 test images is: {100 * correct // total}%')\n",
        "\n",
        "# tried with different loss functions like MultiMarginLoss, CrossCountryLoss, but the accuracy of the model was same for everything.\n",
        "# so decided to keep the HingeEmbeddingLoss function as gave in the pdf."
      ],
      "metadata": {
        "id": "OdczdZkKQ7QS"
      },
      "execution_count": null,
      "outputs": []
    },
    {
      "cell_type": "markdown",
      "source": [
        "Saving the model"
      ],
      "metadata": {
        "id": "ClfqvlBUaz05"
      }
    },
    {
      "cell_type": "code",
      "source": [
        "torch.save(net.state_dict(), \"model.pth\")\n",
        "print(\"Saved pytorch model state to model.pth\")"
      ],
      "metadata": {
        "colab": {
          "base_uri": "https://localhost:8080/"
        },
        "id": "WFkcUt2Xa1hP",
        "outputId": "1ab6d88d-11a1-4562-a325-4e0b1edbfbfe"
      },
      "execution_count": null,
      "outputs": [
        {
          "output_type": "stream",
          "name": "stdout",
          "text": [
            "Saved pytorch model state to model.pth\n"
          ]
        }
      ]
    }
  ]
}