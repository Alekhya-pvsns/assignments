{
  "nbformat": 4,
  "nbformat_minor": 0,
  "metadata": {
    "colab": {
      "provenance": [],
      "authorship_tag": "ABX9TyNw33mVO2lGM6zdXMMIDb+W",
      "include_colab_link": true
    },
    "kernelspec": {
      "name": "python3",
      "display_name": "Python 3"
    },
    "language_info": {
      "name": "python"
    }
  },
  "cells": [
    {
      "cell_type": "markdown",
      "metadata": {
        "id": "view-in-github",
        "colab_type": "text"
      },
      "source": [
        "<a href=\"https://colab.research.google.com/github/Alekhya-pvsns/assignments/blob/master/Lab_1.ipynb\" target=\"_parent\"><img src=\"https://colab.research.google.com/assets/colab-badge.svg\" alt=\"Open In Colab\"/></a>"
      ]
    },
    {
      "cell_type": "code",
      "execution_count": null,
      "metadata": {
        "id": "mskysmD_8WXe"
      },
      "outputs": [],
      "source": [
        "#A.0.1\n",
        "\n",
        "# Get the number of day-old loaves from the user\n",
        "day_old_loaves = float(input(\"Enter the number of day-old loaves: \"))\n",
        "\n",
        "# Calculate the regular price for the bread\n",
        "regular_price = day_old_loaves * 3.49\n",
        "\n",
        "# Calculate the discount for day-old bread\n",
        "discount = regular_price * 0.60\n",
        "\n",
        "# Calculate the total price\n",
        "total_price = regular_price - discount\n",
        "\n",
        "# Display the results using formatted output\n",
        "print(\"Regular price: ${:.2f}\".format(regular_price))\n",
        "print(\"Discount: ${:.2f}\".format(discount))\n",
        "print(\"Total price: ${:.2f}\".format(total_price))"
      ]
    },
    {
      "cell_type": "code",
      "source": [
        "#A.0.2\n",
        "\n",
        "# defining a function for convertion\n",
        "def human_to_dog(human):\n",
        "    if human < 0:\n",
        "        return \"Human years cannot be negative.\"\n",
        "    elif human < 2:\n",
        "        return human * 10.5\n",
        "    else:\n",
        "        return 21 + (human - 2) * 4\n",
        "\n",
        "# Inputting the human years\n",
        "human= float(input(\"Enter the number of human years: \"))\n",
        "\n",
        "# Converting human years into dog years\n",
        "dog = human_to_dog(human)\n",
        "print(\"Dog years: \", dog)"
      ],
      "metadata": {
        "id": "u_YkJOk_9AM3"
      },
      "execution_count": null,
      "outputs": []
    },
    {
      "cell_type": "code",
      "source": [
        "#A.0.4\n",
        "\n",
        "# function for prime\n",
        "def is_prime(n):\n",
        "    if n <= 1:\n",
        "        return False\n",
        "    elif n <= 3:\n",
        "        return True\n",
        "    elif n % 2 == 0 or n % 3 == 0:\n",
        "        return False\n",
        "    i = 5\n",
        "    while i * i <= n:\n",
        "        if n % i == 0 or n % (i + 2) == 0:\n",
        "            return False\n",
        "        i += 6\n",
        "    return True\n",
        "\n",
        "# defining the main function\n",
        "if __name__ == \"__main__\":\n",
        "    n = int(input(\"Enter an integer: \"))\n",
        "    if is_prime(n):\n",
        "        print(n, \"is a prime number.\")\n",
        "    else:\n",
        "        print(n, \"is not a prime number.\")"
      ],
      "metadata": {
        "id": "I98rssDy-Ubk"
      },
      "execution_count": null,
      "outputs": []
    },
    {
      "cell_type": "code",
      "source": [
        "#A.0.5\n",
        "\n",
        "# checking input is prime or not\n",
        "def isPrime(n):\n",
        "    if n <= 1:\n",
        "        return False\n",
        "    for i in range(2, int(n**0.5) + 1):\n",
        "        if n % i == 0:\n",
        "            return False\n",
        "    return True\n",
        "\n",
        "# once it is prime, checking for next large prime\n",
        "def nextPrime(n):\n",
        "    np = n + 1\n",
        "    while not isPrime(np):\n",
        "        np += 1\n",
        "    return np\n",
        "\n",
        "# defining main function\n",
        "if __name__ == \"__main__\":\n",
        "    n = int(input(\"Enter a number: \"))\n",
        "    print(\"The first prime number larger than\", n, \"is\", nextPrime(n))"
      ],
      "metadata": {
        "id": "cNzfy_BC_6sw"
      },
      "execution_count": null,
      "outputs": []
    },
    {
      "cell_type": "code",
      "source": [
        "# A.0.3\n",
        "\n",
        "# defining python random integer generator\n",
        "import random\n",
        "from itertools import groupby\n",
        "\n",
        "# defining H and T for the coin\n",
        "def coin_flip():\n",
        "    return \"H\" if random.randint(0, 1) == 0 else \"T\"\n",
        "\n",
        "# start the fliping of the coin\n",
        "def simulate_flips():\n",
        "    prev_flip = None\n",
        "    count = 0\n",
        "    flip_total = \"\"\n",
        "\n",
        "    while True:\n",
        "        result = coin_flip()\n",
        "        count += 1\n",
        "\n",
        "        if result == prev_flip:\n",
        "            n_count = 1 if prev_flip is None else n_count + 1\n",
        "        else:\n",
        "            n_count = 1\n",
        "\n",
        "        flip_total += result\n",
        "        if n_count == 3:\n",
        "            return flip_total + f\" ({count} flips)\"\n",
        "\n",
        "        prev_flip = result\n",
        "\n",
        "def main():\n",
        "    num_lines = 10\n",
        "    for _ in range(num_lines):\n",
        "        print(simulate_flips())\n",
        "\n",
        "if __name__ == \"__main__\":\n",
        "    main()"
      ],
      "metadata": {
        "id": "Mi-eZtEDB_FC"
      },
      "execution_count": null,
      "outputs": []
    },
    {
      "cell_type": "code",
      "source": [
        "#A.0.6\n",
        "\n",
        "# using python random integer generator\n",
        "import random\n",
        "\n",
        "# function for creating a deck and assigning the values\n",
        "def createDeck():\n",
        "    suits = ['s', 'h', 'd', 'c']\n",
        "    values = list(map(str, range(2, 11))) + ['T', 'J', 'Q', 'K', 'A']\n",
        "    deck = [value + suit for value in values for suit in suits]\n",
        "    return deck\n",
        "\n",
        "# shuffling the created deck\n",
        "def shuffle(deck):\n",
        "    shuffled_deck = deck.copy()\n",
        "    random.shuffle(shuffled_deck)\n",
        "    return deck, shuffled_deck\n",
        "\n",
        "# Creating the deck\n",
        "deck = createDeck()\n",
        "\n",
        "# Shuffling the deck\n",
        "before_shuffle, after_shuffle = shuffle(deck)\n",
        "\n",
        "# Printing the decks\n",
        "print(\"Before shuffle:\")\n",
        "print(before_shuffle)\n",
        "print(\"\\nAfter shuffle:\")\n",
        "print(after_shuffle)"
      ],
      "metadata": {
        "id": "7jdm5og5Kuga"
      },
      "execution_count": null,
      "outputs": []
    },
    {
      "cell_type": "code",
      "source": [
        "#A.0.7\n",
        "\n",
        "# using python random integer generator\n",
        "import random\n",
        "\n",
        "# defining cards class\n",
        "class cards():\n",
        "    def __init__(self):\n",
        "        self.cards = []\n",
        "\n",
        "    def create(self):        # creating the deck of cards\n",
        "        suits = ['Hearts','Diamonds','Clubs','Spades']\n",
        "        values = ['A','2','3','4','5','6','7','8','9','10','J','Q','K']\n",
        "        for suit in suits:\n",
        "            for value in values:\n",
        "                self.cards.append((value,suit))\n",
        "\n",
        "    def shuffle(self):       # shuffling the deck of the cards\n",
        "        random.shuffle(self.cards)\n",
        "\n",
        "    def deal(self, hands, card_num):     # dealing of the caards\n",
        "        if len(self.cards) < hands * card_num:\n",
        "            raise ValueError(\"Not enough cards in the deck.\")\n",
        "        dealt_cards = []\n",
        "        for _ in range(hands):\n",
        "            hand = []\n",
        "            for _ in range(card_num):\n",
        "                card = self.cards.pop()\n",
        "                hand.append(card)\n",
        "            dealt_cards.append(hand)\n",
        "        return dealt_cards\n",
        "\n",
        "card_01 = cards()\n",
        "card_01.create()\n",
        "card_01.shuffle()\n",
        "card_01.deal(3,5)# initializing the number of hands and the number of cards per hand - can be changed accordingly"
      ],
      "metadata": {
        "id": "y7XYHm_YPpf2"
      },
      "execution_count": null,
      "outputs": []
    }
  ]
}